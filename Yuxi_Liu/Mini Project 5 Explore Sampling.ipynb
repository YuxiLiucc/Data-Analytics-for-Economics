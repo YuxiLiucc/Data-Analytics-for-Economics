{
 "cells": [
  {
   "cell_type": "markdown",
   "metadata": {
    "id": "9HYKQFUbTX8V"
   },
   "source": [
    "# Mini Project 5-3 Explore Sampling"
   ]
  },
  {
   "cell_type": "markdown",
   "metadata": {
    "id": "ee31943b-274e-4c28-bce6-155cb6f4c334"
   },
   "source": [
    "## Introduction\n",
    "In this project, you will engage in effective sampling of a dataset in order to make it easier to analyze. As a data professional you will often work with extremely large datasets, and utilizing proper sampling techniques helps you improve your efficiency in this work. \n",
    "\n",
    "For this project, you are a member of an analytics team for the Environmental Protection Agency. You are assigned to analyze data on air quality with respect to carbon monoxide—a major air pollutant—and report your findings. The data utilized in this project includes information from over 200 sites, identified by their state name, county name, city name, and local site name. You will use effective sampling within this dataset. "
   ]
  },
  {
   "cell_type": "markdown",
   "metadata": {
    "id": "4bb9630e-b940-4835-a389-d39def1fa848"
   },
   "source": [
    "## Step 1: Imports"
   ]
  },
  {
   "cell_type": "markdown",
   "metadata": {
    "id": "bc180686-4ae2-47ea-a292-3588ac60a820"
   },
   "source": [
    "### Import packages\n",
    "\n",
    "Import `pandas`,  `numpy`, `matplotlib`, `statsmodels`, and `scipy`. "
   ]
  },
  {
   "cell_type": "code",
   "execution_count": 1,
   "metadata": {
    "id": "8e7f1f2c-bbcc-4f3c-b927-b090ee8334c4"
   },
   "outputs": [],
   "source": [
    "# Import libraries and packages\n",
    "import numpy as np\n",
    "import pandas as pd\n",
    "import matplotlib.pyplot as plt\n",
    "from scipy import stats\n",
    "import statsmodels.api as sm"
   ]
  },
  {
   "cell_type": "markdown",
   "metadata": {
    "id": "7d29c6bd-f194-46bb-b794-56dc20130473"
   },
   "source": [
    "### Load the dataset\n",
    "\n",
    "As shown in this cell, the dataset has been automatically loaded in for you. You do not need to download the .csv file, or provide more code, in order to access the dataset and proceed with this lab. Please continue with this activity by completing the following instructions."
   ]
  },
  {
   "cell_type": "code",
   "execution_count": 7,
   "metadata": {
    "id": "3bd40d44-080f-4e49-b0c2-160dedc3c4df"
   },
   "outputs": [
    {
     "data": {
      "text/html": [
       "<div>\n",
       "<style scoped>\n",
       "    .dataframe tbody tr th:only-of-type {\n",
       "        vertical-align: middle;\n",
       "    }\n",
       "\n",
       "    .dataframe tbody tr th {\n",
       "        vertical-align: top;\n",
       "    }\n",
       "\n",
       "    .dataframe thead th {\n",
       "        text-align: right;\n",
       "    }\n",
       "</style>\n",
       "<table border=\"1\" class=\"dataframe\">\n",
       "  <thead>\n",
       "    <tr style=\"text-align: right;\">\n",
       "      <th></th>\n",
       "      <th>date_local</th>\n",
       "      <th>state_name</th>\n",
       "      <th>county_name</th>\n",
       "      <th>city_name</th>\n",
       "      <th>local_site_name</th>\n",
       "      <th>parameter_name</th>\n",
       "      <th>units_of_measure</th>\n",
       "      <th>aqi_log</th>\n",
       "    </tr>\n",
       "  </thead>\n",
       "  <tbody>\n",
       "    <tr>\n",
       "      <th>0</th>\n",
       "      <td>2018-01-01</td>\n",
       "      <td>Arizona</td>\n",
       "      <td>Maricopa</td>\n",
       "      <td>Buckeye</td>\n",
       "      <td>BUCKEYE</td>\n",
       "      <td>Carbon monoxide</td>\n",
       "      <td>Parts per million</td>\n",
       "      <td>2.079442</td>\n",
       "    </tr>\n",
       "    <tr>\n",
       "      <th>1</th>\n",
       "      <td>2018-01-01</td>\n",
       "      <td>Ohio</td>\n",
       "      <td>Belmont</td>\n",
       "      <td>Shadyside</td>\n",
       "      <td>Shadyside</td>\n",
       "      <td>Carbon monoxide</td>\n",
       "      <td>Parts per million</td>\n",
       "      <td>1.791759</td>\n",
       "    </tr>\n",
       "    <tr>\n",
       "      <th>2</th>\n",
       "      <td>2018-01-01</td>\n",
       "      <td>Wyoming</td>\n",
       "      <td>Teton</td>\n",
       "      <td>Not in a city</td>\n",
       "      <td>Yellowstone National Park - Old Faithful Snow ...</td>\n",
       "      <td>Carbon monoxide</td>\n",
       "      <td>Parts per million</td>\n",
       "      <td>1.098612</td>\n",
       "    </tr>\n",
       "    <tr>\n",
       "      <th>3</th>\n",
       "      <td>2018-01-01</td>\n",
       "      <td>Pennsylvania</td>\n",
       "      <td>Philadelphia</td>\n",
       "      <td>Philadelphia</td>\n",
       "      <td>North East Waste (NEW)</td>\n",
       "      <td>Carbon monoxide</td>\n",
       "      <td>Parts per million</td>\n",
       "      <td>1.386294</td>\n",
       "    </tr>\n",
       "    <tr>\n",
       "      <th>4</th>\n",
       "      <td>2018-01-01</td>\n",
       "      <td>Iowa</td>\n",
       "      <td>Polk</td>\n",
       "      <td>Des Moines</td>\n",
       "      <td>CARPENTER</td>\n",
       "      <td>Carbon monoxide</td>\n",
       "      <td>Parts per million</td>\n",
       "      <td>1.386294</td>\n",
       "    </tr>\n",
       "    <tr>\n",
       "      <th>...</th>\n",
       "      <td>...</td>\n",
       "      <td>...</td>\n",
       "      <td>...</td>\n",
       "      <td>...</td>\n",
       "      <td>...</td>\n",
       "      <td>...</td>\n",
       "      <td>...</td>\n",
       "      <td>...</td>\n",
       "    </tr>\n",
       "    <tr>\n",
       "      <th>254</th>\n",
       "      <td>2018-01-01</td>\n",
       "      <td>Arizona</td>\n",
       "      <td>Pima</td>\n",
       "      <td>Tucson</td>\n",
       "      <td>CHERRY &amp; GLENN</td>\n",
       "      <td>Carbon monoxide</td>\n",
       "      <td>Parts per million</td>\n",
       "      <td>2.708050</td>\n",
       "    </tr>\n",
       "    <tr>\n",
       "      <th>255</th>\n",
       "      <td>2018-01-01</td>\n",
       "      <td>District Of Columbia</td>\n",
       "      <td>District of Columbia</td>\n",
       "      <td>Washington</td>\n",
       "      <td>Near Road</td>\n",
       "      <td>Carbon monoxide</td>\n",
       "      <td>Parts per million</td>\n",
       "      <td>1.386294</td>\n",
       "    </tr>\n",
       "    <tr>\n",
       "      <th>256</th>\n",
       "      <td>2018-01-01</td>\n",
       "      <td>Wisconsin</td>\n",
       "      <td>Dodge</td>\n",
       "      <td>Kekoskee</td>\n",
       "      <td>HORICON WILDLIFE AREA</td>\n",
       "      <td>Carbon monoxide</td>\n",
       "      <td>Parts per million</td>\n",
       "      <td>1.098612</td>\n",
       "    </tr>\n",
       "    <tr>\n",
       "      <th>257</th>\n",
       "      <td>2018-01-01</td>\n",
       "      <td>Kentucky</td>\n",
       "      <td>Jefferson</td>\n",
       "      <td>Louisville</td>\n",
       "      <td>CANNONS LANE</td>\n",
       "      <td>Carbon monoxide</td>\n",
       "      <td>Parts per million</td>\n",
       "      <td>1.098612</td>\n",
       "    </tr>\n",
       "    <tr>\n",
       "      <th>259</th>\n",
       "      <td>2018-01-01</td>\n",
       "      <td>North Carolina</td>\n",
       "      <td>Wake</td>\n",
       "      <td>Not in a city</td>\n",
       "      <td>Triple Oak</td>\n",
       "      <td>Carbon monoxide</td>\n",
       "      <td>Parts per million</td>\n",
       "      <td>1.098612</td>\n",
       "    </tr>\n",
       "  </tbody>\n",
       "</table>\n",
       "<p>257 rows × 8 columns</p>\n",
       "</div>"
      ],
      "text/plain": [
       "     date_local            state_name           county_name      city_name  \\\n",
       "0    2018-01-01               Arizona              Maricopa        Buckeye   \n",
       "1    2018-01-01                  Ohio               Belmont      Shadyside   \n",
       "2    2018-01-01               Wyoming                 Teton  Not in a city   \n",
       "3    2018-01-01          Pennsylvania          Philadelphia   Philadelphia   \n",
       "4    2018-01-01                  Iowa                  Polk     Des Moines   \n",
       "..          ...                   ...                   ...            ...   \n",
       "254  2018-01-01               Arizona                  Pima         Tucson   \n",
       "255  2018-01-01  District Of Columbia  District of Columbia     Washington   \n",
       "256  2018-01-01             Wisconsin                 Dodge       Kekoskee   \n",
       "257  2018-01-01              Kentucky             Jefferson     Louisville   \n",
       "259  2018-01-01        North Carolina                  Wake  Not in a city   \n",
       "\n",
       "                                       local_site_name   parameter_name  \\\n",
       "0                                              BUCKEYE  Carbon monoxide   \n",
       "1                                            Shadyside  Carbon monoxide   \n",
       "2    Yellowstone National Park - Old Faithful Snow ...  Carbon monoxide   \n",
       "3                               North East Waste (NEW)  Carbon monoxide   \n",
       "4                                            CARPENTER  Carbon monoxide   \n",
       "..                                                 ...              ...   \n",
       "254                                     CHERRY & GLENN  Carbon monoxide   \n",
       "255                                          Near Road  Carbon monoxide   \n",
       "256                              HORICON WILDLIFE AREA  Carbon monoxide   \n",
       "257                                       CANNONS LANE  Carbon monoxide   \n",
       "259                                         Triple Oak  Carbon monoxide   \n",
       "\n",
       "      units_of_measure   aqi_log  \n",
       "0    Parts per million  2.079442  \n",
       "1    Parts per million  1.791759  \n",
       "2    Parts per million  1.098612  \n",
       "3    Parts per million  1.386294  \n",
       "4    Parts per million  1.386294  \n",
       "..                 ...       ...  \n",
       "254  Parts per million  2.708050  \n",
       "255  Parts per million  1.386294  \n",
       "256  Parts per million  1.098612  \n",
       "257  Parts per million  1.098612  \n",
       "259  Parts per million  1.098612  \n",
       "\n",
       "[257 rows x 8 columns]"
      ]
     },
     "execution_count": 7,
     "metadata": {},
     "output_type": "execute_result"
    }
   ],
   "source": [
    "# Import data.\n",
    "modified_c4_epa_air_quality = pd.read_csv('Modified EPA Air Quality Data.csv')\n",
    "modified_c4_epa_air_quality.dropna()"
   ]
  },
  {
   "cell_type": "markdown",
   "metadata": {
    "id": "95bf39c9-d05c-4324-a40b-bc692607b61b"
   },
   "source": [
    "## Step 2: Data exploration"
   ]
  },
  {
   "cell_type": "markdown",
   "metadata": {
    "id": "26561614-8e9b-4840-8dbf-b50131ae5314",
    "tags": []
   },
   "source": [
    "### Examine the data\n",
    "\n",
    "To understand how the dataset is structured, examine the first 10 rows of the data."
   ]
  },
  {
   "cell_type": "code",
   "execution_count": 8,
   "metadata": {
    "id": "ad5210a5-7a64-4991-b004-de818cfaf506"
   },
   "outputs": [
    {
     "name": "stdout",
     "output_type": "stream",
     "text": [
      "   date_local    state_name   county_name      city_name  \\\n",
      "0  2018-01-01       Arizona      Maricopa        Buckeye   \n",
      "1  2018-01-01          Ohio       Belmont      Shadyside   \n",
      "2  2018-01-01       Wyoming         Teton  Not in a city   \n",
      "3  2018-01-01  Pennsylvania  Philadelphia   Philadelphia   \n",
      "4  2018-01-01          Iowa          Polk     Des Moines   \n",
      "5  2018-01-01        Hawaii      Honolulu  Not in a city   \n",
      "6  2018-01-01        Hawaii      Honolulu  Not in a city   \n",
      "7  2018-01-01  Pennsylvania          Erie           Erie   \n",
      "8  2018-01-01        Hawaii      Honolulu       Honolulu   \n",
      "9  2018-01-01      Colorado       Larimer   Fort Collins   \n",
      "\n",
      "                                     local_site_name   parameter_name  \\\n",
      "0                                            BUCKEYE  Carbon monoxide   \n",
      "1                                          Shadyside  Carbon monoxide   \n",
      "2  Yellowstone National Park - Old Faithful Snow ...  Carbon monoxide   \n",
      "3                             North East Waste (NEW)  Carbon monoxide   \n",
      "4                                          CARPENTER  Carbon monoxide   \n",
      "5                                            Kapolei  Carbon monoxide   \n",
      "6                                            Kapolei  Carbon monoxide   \n",
      "7                                                NaN  Carbon monoxide   \n",
      "8                                           Honolulu  Carbon monoxide   \n",
      "9                      Fort Collins - CSU - S. Mason  Carbon monoxide   \n",
      "\n",
      "    units_of_measure   aqi_log  \n",
      "0  Parts per million  2.079442  \n",
      "1  Parts per million  1.791759  \n",
      "2  Parts per million  1.098612  \n",
      "3  Parts per million  1.386294  \n",
      "4  Parts per million  1.386294  \n",
      "5  Parts per million  2.708050  \n",
      "6  Parts per million  1.098612  \n",
      "7  Parts per million  1.098612  \n",
      "8  Parts per million  1.791759  \n",
      "9  Parts per million  1.945910  \n"
     ]
    }
   ],
   "source": [
    "# First 10 rows of the data\n",
    "print(modified_c4_epa_air_quality.head(10))\n"
   ]
  },
  {
   "cell_type": "markdown",
   "id": "5aac65ea",
   "metadata": {
    "id": "nZHP_ZUSXDKh"
   },
   "source": []
  },
  {
   "cell_type": "markdown",
   "metadata": {
    "id": "7dac147e-19e1-49e7-bd80-e122390c3a70",
    "tags": []
   },
   "source": [
    "### Generate a table of descriptive statistics\n",
    "\n",
    "Generate a table of some descriptive statistics about the data. Specify that all columns of the input be included in the output."
   ]
  },
  {
   "cell_type": "code",
   "execution_count": 10,
   "metadata": {
    "id": "13f1c1dd-5637-4726-8fa0-2fbd838e4afa"
   },
   "outputs": [
    {
     "name": "stdout",
     "output_type": "stream",
     "text": [
      "          aqi_log\n",
      "count  260.000000\n",
      "mean     1.766921\n",
      "std      0.714716\n",
      "min      0.000000\n",
      "25%      1.098612\n",
      "50%      1.791759\n",
      "75%      2.302585\n",
      "max      3.931826\n"
     ]
    }
   ],
   "source": [
    "# Code Here\n",
    "\n",
    "print(modified_c4_epa_air_quality.describe())\n"
   ]
  },
  {
   "cell_type": "markdown",
   "metadata": {
    "id": "584fa1b2"
   },
   "source": [
    "**Question:** Based on the preceding table of descriptive statistics, what is the mean value of the `aqi` column? "
   ]
  },
  {
   "cell_type": "markdown",
   "metadata": {
    "id": "DoQA-TKWXIJ-"
   },
   "source": [
    "A: The mean value of the aqi_log column is 1.766921 (as given in the descriptive statistics table). The mean value of the aqi column (after reversing the log transformation) is approximately 5.85. "
   ]
  },
  {
   "cell_type": "markdown",
   "metadata": {
    "id": "a70475eb-d3a6-42e4-8b71-a49b5a1aa0db"
   },
   "source": [
    "**Question:** Based on the preceding table of descriptive statistics, what do you notice about the count value for the `aqi` column?"
   ]
  },
  {
   "cell_type": "markdown",
   "metadata": {
    "id": "KIIg5Bd4XJ3M"
   },
   "source": [
    "A: Based on the preceding table of descriptive statistics, the count value for the aqi_log column is 260. This indicates that there are 260 recorded observations in the dataset for this variable."
   ]
  },
  {
   "cell_type": "markdown",
   "metadata": {
    "id": "5464fa18-f969-4e1e-8539-9b2d9a11766d",
    "tags": []
   },
   "source": [
    "### Use the `mean()` function on the `aqi`  column\n",
    "\n",
    "Now, use the `mean()` function on the `aqi`  column and assign the value to a variable `population_mean`. The value should be the same as the one generated by the `describe()` method in the above table. "
   ]
  },
  {
   "cell_type": "code",
   "execution_count": 14,
   "metadata": {
    "id": "678346a1-bc1a-40be-850a-c03488970604"
   },
   "outputs": [
    {
     "data": {
      "text/plain": [
       "np.float64(1.7669210929985577)"
      ]
     },
     "execution_count": 14,
     "metadata": {},
     "output_type": "execute_result"
    }
   ],
   "source": [
    "# Code Here\n",
    "population_mean = modified_c4_epa_air_quality['aqi_log'].mean()\n",
    "population_mean"
   ]
  },
  {
   "cell_type": "markdown",
   "metadata": {
    "id": "990595d9"
   },
   "source": [
    "## Step 3: Statistical tests"
   ]
  },
  {
   "cell_type": "markdown",
   "metadata": {
    "id": "tejiqD0O7e3p"
   },
   "source": [
    "### Sample with replacement\n",
    "\n",
    "First, name a new variable `sampled_data`. Then, use the `sample()` dataframe method to draw 50 samples from `epa_data`. Set `replace` equal to `'True'` to specify sampling with replacement. For `random_state`, choose an arbitrary number for random seed. Make that arbitrary number `42`."
   ]
  },
  {
   "cell_type": "code",
   "execution_count": 16,
   "metadata": {
    "id": "e4bceb0a"
   },
   "outputs": [
    {
     "data": {
      "text/plain": [
       "102    1.098612\n",
       "106    3.295837\n",
       "71     1.098612\n",
       "188    2.397895\n",
       "20     0.693147\n",
       "102    1.098612\n",
       "121    1.098612\n",
       "214    1.791759\n",
       "87     1.791759\n",
       "99     1.386294\n",
       "151    2.484907\n",
       "130    2.484907\n",
       "149    1.386294\n",
       "257    1.098612\n",
       "191    1.098612\n",
       "160    1.098612\n",
       "21     0.693147\n",
       "252    1.386294\n",
       "235    1.386294\n",
       "48     1.945910\n",
       "58     1.386294\n",
       "169    1.098612\n",
       "187    1.791759\n",
       "189    3.044522\n",
       "174    1.098612\n",
       "50     1.098612\n",
       "54     1.098612\n",
       "243    2.197225\n",
       "130    2.484907\n",
       "134    2.397895\n",
       "20     0.693147\n",
       "166    1.386294\n",
       "88     1.945910\n",
       "13     2.397895\n",
       "241    1.098612\n",
       "52     1.386294\n",
       "91     1.791759\n",
       "34     2.772589\n",
       "205    1.386294\n",
       "80     2.772589\n",
       "49     0.693147\n",
       "1      1.791759\n",
       "53     1.791759\n",
       "105    1.386294\n",
       "259    1.098612\n",
       "190    1.791759\n",
       "217    0.693147\n",
       "43     1.791759\n",
       "161    2.639057\n",
       "201    2.079442\n",
       "Name: aqi_log, dtype: float64"
      ]
     },
     "execution_count": 16,
     "metadata": {},
     "output_type": "execute_result"
    }
   ],
   "source": [
    "# Code Here\n",
    "sampled_data = modified_c4_epa_air_quality['aqi_log'].sample(n=50, replace=True, random_state=42)\n",
    "sampled_data"
   ]
  },
  {
   "cell_type": "markdown",
   "metadata": {
    "id": "dcca386d"
   },
   "source": [
    "### Output the first 10 rows\n",
    "\n",
    "Output the first 10 rows of the DataFrame. "
   ]
  },
  {
   "cell_type": "code",
   "execution_count": 17,
   "metadata": {
    "id": "63d5d4d5"
   },
   "outputs": [
    {
     "name": "stdout",
     "output_type": "stream",
     "text": [
      "102    1.098612\n",
      "106    3.295837\n",
      "71     1.098612\n",
      "188    2.397895\n",
      "20     0.693147\n",
      "102    1.098612\n",
      "121    1.098612\n",
      "214    1.791759\n",
      "87     1.791759\n",
      "99     1.386294\n",
      "Name: aqi_log, dtype: float64\n"
     ]
    }
   ],
   "source": [
    "# Code Here\n",
    "# Output the first 10 rows of the DataFrame. \n",
    "print(sampled_data.head(10))\n"
   ]
  },
  {
   "cell_type": "markdown",
   "metadata": {
    "id": "ea32e0f9"
   },
   "source": [
    "**Question:** In the DataFrame output, why is the row index 102 repeated twice? "
   ]
  },
  {
   "cell_type": "markdown",
   "metadata": {
    "id": "PFcAQ7kQXQGa"
   },
   "source": [
    "A: Since replace=True was used, each row in epa_data had a chance of being randomly selected multiple times."
   ]
  },
  {
   "cell_type": "markdown",
   "metadata": {
    "id": "39c3bf7d"
   },
   "source": [
    "**Question:** What does `random_state` do?"
   ]
  },
  {
   "cell_type": "markdown",
   "metadata": {
    "id": "6gVu0BaTXSlI"
   },
   "source": [
    "A: random_state fixes the random seed so that every time you run the code, you get the same randomly selected data."
   ]
  },
  {
   "cell_type": "markdown",
   "metadata": {
    "id": "eed77707"
   },
   "source": [
    "### Compute the mean value from the `aqi` column\n",
    "\n",
    "Compute the mean value from the `aqi` column in `sampled_data` and assign the value to the variable `sample_mean`."
   ]
  },
  {
   "cell_type": "code",
   "execution_count": null,
   "metadata": {
    "id": "eccca24f"
   },
   "outputs": [
    {
     "data": {
      "text/plain": [
       "np.float64(1.6379981384419398)"
      ]
     },
     "execution_count": 18,
     "metadata": {},
     "output_type": "execute_result"
    }
   ],
   "source": [
    "# Code Here\n",
    "# Compute the mean value of the sampled data.\n",
    "sample_mean = sampled_data.mean()\n",
    "sample_mean"
   ]
  },
  {
   "cell_type": "markdown",
   "metadata": {},
   "source": [
    "You have a 95% confidence interval for the mean district literacy rate that stretches from about X % to Y%. \n",
    "\n",
    "95% CI: (X, Y)"
   ]
  },
  {
   "cell_type": "markdown",
   "metadata": {
    "id": "dffa05d1"
   },
   "source": [
    " **Question:**  Why is `sample_mean` different from `population_mean`?\n"
   ]
  },
  {
   "cell_type": "markdown",
   "metadata": {
    "id": "IWOwRNYsXVDL"
   },
   "source": [
    "A: Sampling Variability → The sample is only a subset of the full dataset, so its mean will fluctuate compared to the full population mean. Random Selection → Different samples will contain different values, causing sample_mean to vary."
   ]
  },
  {
   "cell_type": "markdown",
   "metadata": {
    "id": "83526f10"
   },
   "source": [
    "### Apply the central limit theorem\n",
    "\n",
    "Imagine repeating the the earlier sample with replacement 10,000 times and obtaining 10,000 point estimates of the mean. In other words, imagine taking 10,000 random samples of 50 AQI values and computing the mean for each sample. According to the **central limit theorem**, the mean of a sampling distribution should be roughly equal to the population mean. Complete the following steps to compute the mean of the sampling distribution with 10,000 samples. \n",
    "\n",
    "* Create an empty list and assign it to a variable called `estimate_list`. \n",
    "* Iterate through a `for` loop 10,000 times. To do this, make sure to utilize the `range()` function to generate a sequence of numbers from 0 to 9,999. \n",
    "* In each iteration of the loop, use the `sample()` function to take a random sample (with replacement) of 50 AQI values from the population. Do not set `random_state` to a value.\n",
    "* Use the list `append()` function to add the value of the sample `mean` to each item in the list.\n"
   ]
  },
  {
   "cell_type": "code",
   "execution_count": 23,
   "metadata": {
    "id": "192b9d77"
   },
   "outputs": [],
   "source": [
    "# Code Here\n",
    "# Create an empty list and assign it to a variable called `estimate_list`.\n",
    "estimate_list = []\n",
    "# Iterate through a `for` loop 10,000 times. To do this, make sure to utilize the `range()` function to generate a sequence of numbers from 0 to 9,999. \n",
    "for i in range(10000):\n",
    "    # Within the `for` loop, sample the `aqi_log` column with replacement, using a sample size equal to the number of rows in the `sampled_data` DataFrame. \n",
    "    estimate_list.append(modified_c4_epa_air_quality['aqi_log'].sample(n=50, replace=True).mean())\n"
   ]
  },
  {
   "cell_type": "markdown",
   "metadata": {
    "id": "bbcc624a"
   },
   "source": [
    "### Create a new DataFrame\n",
    "\n",
    "Next, create a new DataFrame from the list of 10,000 estimates. Name the new variable `estimate_df`."
   ]
  },
  {
   "cell_type": "code",
   "execution_count": 24,
   "metadata": {
    "id": "59878c6b"
   },
   "outputs": [
    {
     "data": {
      "text/html": [
       "<div>\n",
       "<style scoped>\n",
       "    .dataframe tbody tr th:only-of-type {\n",
       "        vertical-align: middle;\n",
       "    }\n",
       "\n",
       "    .dataframe tbody tr th {\n",
       "        vertical-align: top;\n",
       "    }\n",
       "\n",
       "    .dataframe thead th {\n",
       "        text-align: right;\n",
       "    }\n",
       "</style>\n",
       "<table border=\"1\" class=\"dataframe\">\n",
       "  <thead>\n",
       "    <tr style=\"text-align: right;\">\n",
       "      <th></th>\n",
       "      <th>estimate</th>\n",
       "    </tr>\n",
       "  </thead>\n",
       "  <tbody>\n",
       "    <tr>\n",
       "      <th>0</th>\n",
       "      <td>1.741648</td>\n",
       "    </tr>\n",
       "    <tr>\n",
       "      <th>1</th>\n",
       "      <td>1.628382</td>\n",
       "    </tr>\n",
       "    <tr>\n",
       "      <th>2</th>\n",
       "      <td>1.766932</td>\n",
       "    </tr>\n",
       "    <tr>\n",
       "      <th>3</th>\n",
       "      <td>1.832670</td>\n",
       "    </tr>\n",
       "    <tr>\n",
       "      <th>4</th>\n",
       "      <td>1.632600</td>\n",
       "    </tr>\n",
       "    <tr>\n",
       "      <th>5</th>\n",
       "      <td>1.747842</td>\n",
       "    </tr>\n",
       "    <tr>\n",
       "      <th>6</th>\n",
       "      <td>1.799571</td>\n",
       "    </tr>\n",
       "    <tr>\n",
       "      <th>7</th>\n",
       "      <td>1.752665</td>\n",
       "    </tr>\n",
       "    <tr>\n",
       "      <th>8</th>\n",
       "      <td>1.798342</td>\n",
       "    </tr>\n",
       "    <tr>\n",
       "      <th>9</th>\n",
       "      <td>1.761397</td>\n",
       "    </tr>\n",
       "  </tbody>\n",
       "</table>\n",
       "</div>"
      ],
      "text/plain": [
       "   estimate\n",
       "0  1.741648\n",
       "1  1.628382\n",
       "2  1.766932\n",
       "3  1.832670\n",
       "4  1.632600\n",
       "5  1.747842\n",
       "6  1.799571\n",
       "7  1.752665\n",
       "8  1.798342\n",
       "9  1.761397"
      ]
     },
     "execution_count": 24,
     "metadata": {},
     "output_type": "execute_result"
    }
   ],
   "source": [
    "# Code Here\n",
    "estimate_df = pd.DataFrame(data={'estimate': estimate_list})\n",
    "# Output the first 10 rows of the `estimate_df` DataFrame.\n",
    "estimate_df.head(10)"
   ]
  },
  {
   "cell_type": "markdown",
   "metadata": {
    "id": "1a2d1b98"
   },
   "source": [
    "### Compute the mean() of the sampling distribution\n",
    "\n",
    "Next, compute the `mean()` of the sampling distribution of 10,000 random samples and store the result in a new variable `mean_sample_means`."
   ]
  },
  {
   "cell_type": "code",
   "execution_count": 25,
   "metadata": {
    "id": "c21cce9c"
   },
   "outputs": [
    {
     "data": {
      "text/plain": [
       "np.float64(1.7653975153391925)"
      ]
     },
     "execution_count": 25,
     "metadata": {},
     "output_type": "execute_result"
    }
   ],
   "source": [
    "# Code Here\n",
    "# compute the `mean()` of the `estimate` column in the `estimate_df` DataFrame.\n",
    "mean_sample_means = estimate_df['estimate'].mean()\n",
    "mean_sample_means"
   ]
  },
  {
   "cell_type": "markdown",
   "metadata": {
    "id": "8a5939d9"
   },
   "source": [
    "**Question:** What is the mean for the sampling distribution of 10,000 random samples?"
   ]
  },
  {
   "cell_type": "code",
   "execution_count": 26,
   "metadata": {
    "id": "hpyqcQ93XeEU"
   },
   "outputs": [
    {
     "data": {
      "text/plain": [
       "np.float64(1.7653975153391925)"
      ]
     },
     "execution_count": 26,
     "metadata": {},
     "output_type": "execute_result"
    }
   ],
   "source": [
    "# Code Here\n",
    "mean_sample_means"
   ]
  },
  {
   "cell_type": "markdown",
   "metadata": {
    "id": "4c8ab4ca"
   },
   "source": [
    "**Question:** How are the central limit theorem and random sampling (with replacement) related?"
   ]
  },
  {
   "cell_type": "code",
   "execution_count": null,
   "metadata": {},
   "outputs": [],
   "source": [
    "# Code Here\n",
    "#Random sampling (with replacement) supports the Central Limit Theorem by ensuring that the distribution of sample means approaches normality, and as the sample size increases, the sample mean converges to the population mean."
   ]
  },
  {
   "cell_type": "markdown",
   "metadata": {
    "id": "yk68WKLcXiJn"
   },
   "source": [
    "A:"
   ]
  },
  {
   "cell_type": "markdown",
   "metadata": {
    "id": "ff41cd55"
   },
   "source": [
    "### Output the distribution using a histogram\n",
    "\n",
    "Output the distribution of these estimates using a histogram. This provides an idea of the sampling distribution."
   ]
  },
  {
   "cell_type": "code",
   "execution_count": 32,
   "metadata": {
    "id": "e0e6aedd"
   },
   "outputs": [
    {
     "data": {
      "image/png": "[encoded data removed]",
      "text/plain": [
       "<Figure size 640x480 with 1 Axes>"
      ]
     },
     "metadata": {},
     "output_type": "display_data"
    }
   ],
   "source": [
    "# Code Here\n",
    "# Create a histogram of the `estimate_list` data using the `plt.hist()` function.\n",
    "plt.hist(estimate_list, bins=30, color='blue', alpha=0.7, label = \"histogram of sample means of 10000 random samples\")\n",
    "xmin, xmax = plt.xlim()\n",
    "x = np.linspace(xmin, xmax, 100)\n",
    "# Add a vertical line to the histogram to indicate the population mean.\n",
    "plt.axvline(x=population_mean, color='red', linestyle='dashed', linewidth=1, label = \"population mean\")\n",
    "# Add a vertical line to the histogram to indicate the mean of the sample means.\n",
    "\n",
    "plt.axvline(x=mean_sample_means, color='green', linestyle='dashed', linewidth=1, label = \"mean of sample means\")\n",
    "# Add a title to the histogram.\n",
    "plt.title('Distribution of Sample Means', size=15)\n",
    "# Add a label to the x-axis of the histogram.\n",
    "plt.xlabel('Sample Mean')\n",
    "# Add a label to the y-axis of the histogram.\n",
    "\n",
    "plt.ylabel('Frequency')\n",
    "# Display the histogram.\n",
    "plt.show()\n",
    "\n"
   ]
  },
  {
   "cell_type": "markdown",
   "metadata": {
    "id": "c740a062"
   },
   "source": [
    "### Calculate the standard error\n",
    "\n",
    "Calculate the standard error of the mean AQI using the initial sample of 50. The **standard error** of a statistic measures the sample-to-sample variability of the sample statistic. It provides a numerical measure of sampling variability and answers the question: How far is a statistic based on one particular sample from the actual value of the statistic?"
   ]
  },
  {
   "cell_type": "code",
   "execution_count": null,
   "metadata": {
    "id": "74e6b4e9"
   },
   "outputs": [
    {
     "data": {
      "text/plain": [
       "np.float64(0.0945235150131964)"
      ]
     },
     "execution_count": 33,
     "metadata": {},
     "output_type": "execute_result"
    }
   ],
   "source": [
    "# Code Here\n",
    "# Calculate the standard error of the sample means.\n",
    "standard_error = sampled_data.std() / np.sqrt(50)\n",
    "standard_error"
   ]
  },
  {
   "cell_type": "markdown",
   "metadata": {
    "id": "2c748417"
   },
   "source": [
    "## Step 4: Results and evaluation"
   ]
  },
  {
   "cell_type": "markdown",
   "metadata": {
    "id": "06fae653"
   },
   "source": [
    "###  Visualize the relationship between the sampling and normal distributions\n",
    "\n",
    "Visualize the relationship between your sampling distribution of 10,000 estimates and the normal distribution.\n",
    "\n",
    "1. Plot a histogram of the 10,000 sample means \n",
    "2. Add a vertical line indicating the mean of the first single sample of 50\n",
    "3. Add another vertical line indicating the mean of the means of the 10,000 samples \n",
    "4. Add a third vertical line indicating the mean of the actual population"
   ]
  },
  {
   "cell_type": "code",
   "execution_count": 35,
   "metadata": {
    "id": "55b5b482"
   },
   "outputs": [
    {
     "data": {
      "image/png": "[encoded data removed]",
      "text/plain": [
       "<Figure size 640x480 with 1 Axes>"
      ]
     },
     "metadata": {},
     "output_type": "display_data"
    }
   ],
   "source": [
    "# Code Here\n",
    "# Visualize the relationship between your sampling distribution of 10,000 estimates and the normal distribution.\n",
    "#  Plot a histogram of the 10,000 sample means \n",
    "plt.hist(estimate_list, bins=30, color='blue', alpha=0.7, label = \"histogram of sample means of 10000 random samples\")\n",
    "xmin, xmax = plt.xlim()\n",
    "x = np.linspace(xmin, xmax, 100)\n",
    "# Plot the normal distribution\n",
    "p = stats.norm.pdf(x, mean_sample_means, standard_error)\n",
    "plt.plot(x, p, 'k', linewidth=2, label = \"normal distribution\")\n",
    "# Add a title to the histogram.\n",
    "plt.title('Distribution of Sample Means', size=15)\n",
    "# Add a label to the x-axis of the histogram.\n",
    "plt.xlabel('Sample Mean')\n",
    "# Add a label to the y-axis of the histogram.\n",
    "plt.ylabel('Frequency')\n",
    "# Add a vertical line indicating the mean of the first single sample of 50\n",
    "plt.axvline(x=sample_mean, color='red', linestyle='dashed', linewidth=1, label = \"mean of single sample of 50\")\n",
    "# Add another vertical line indicating the mean of the means of the 10,000 samples \n",
    "plt.axvline(x=mean_sample_means, color='green', linestyle='dashed', linewidth=1, label = \"mean of sample means\")\n",
    "# Add a third vertical line indicating the mean of the actual population\n",
    "plt.axvline(x=population_mean, color='purple', linestyle='dashed', linewidth=1, label = \"population mean\")\n",
    "# Display the legend\n",
    "plt.legend(bbox_to_anchor=(1.04,1))\n",
    "# Display the histogram\n",
    "plt.show()"
   ]
  },
  {
   "cell_type": "markdown",
   "metadata": {
    "id": "9abab6d5"
   },
   "source": [
    "**Question:** What insights did you gain from the preceding sampling distribution?"
   ]
  },
  {
   "cell_type": "markdown",
   "metadata": {
    "id": "6TWq1w2KXtN3"
   },
   "source": [
    "A: The green dashed line (mean of sample means) is very close to the purple dashed line (population mean).\n",
    "This confirms that taking many random samples produces an accurate estimate of the population mean. The red dashed line (mean of a single sample of 50) is slightly shifted compared to the population mean.\n",
    "This shows that a single sample may not perfectly estimate the population mean, but when we take many samples, the estimates become more accurate. The spread of the distribution (standard error) is smaller than the original data, meaning the larger the sample size, the more precise the estimate of the population mean."
   ]
  },
  {
   "cell_type": "markdown",
   "metadata": {
    "id": "c77e7f0f-d2b9-4464-8a7c-9575d1e1ef9f"
   },
   "source": [
    "# Considerations"
   ]
  },
  {
   "cell_type": "markdown",
   "metadata": {},
   "source": [
    "**What are some key takeaways that you learned from this project?**\n",
    "\n",
    "A: Central Limit Theorem (CLT) in Action, Importance of Random Sampling (With Replacement), Outlier Detection and Its Impact, Sampling Variability and Mean Estimation, Data Visualization Enhances Understanding."
   ]
  },
  {
   "cell_type": "markdown",
   "metadata": {},
   "source": [
    "**What findings would you share with others?**\n",
    "\n",
    "A: The Central Limit Theorem (CLT) Holds True,  The Mean of Sample Means is Close to the Population Mean, Sampling Variability Exists, But It Decreases With Larger Samples"
   ]
  },
  {
   "cell_type": "markdown",
   "metadata": {},
   "source": [
    "**What would you convey to external readers?**\n",
    "\n",
    "A: In this project, we applied statistical sampling techniques to analyze air quality data and ensure accurate insights. Our findings highlight the importance of data-driven decision-making in environmental monitoring and public health."
   ]
  }
 ],
 "metadata": {
  "colab": {
   "collapsed_sections": [],
   "provenance": []
  },
  "kernelspec": {
   "display_name": "Python 3",
   "language": "python",
   "name": "python3"
  },
  "language_info": {
   "codemirror_mode": {
    "name": "ipython",
    "version": 3
   },
   "file_extension": ".py",
   "mimetype": "text/x-python",
   "name": "python",
   "nbconvert_exporter": "python",
   "pygments_lexer": "ipython3",
   "version": "3.12.3"
  },
  "toc-autonumbering": false,
  "toc-showtags": false
 },
 "nbformat": 4,
 "nbformat_minor": 5
}
